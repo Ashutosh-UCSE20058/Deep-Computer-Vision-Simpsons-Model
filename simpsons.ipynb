{
 "cells": [
  {
   "cell_type": "code",
   "execution_count": 1,
   "id": "1a70c928",
   "metadata": {
    "_cell_guid": "b1076dfc-b9ad-4769-8c92-a6c4dae69d19",
    "_uuid": "8f2839f25d086af736a60e9eeb907d3b93b6e0e5",
    "execution": {
     "iopub.execute_input": "2022-11-27T19:16:23.530031Z",
     "iopub.status.busy": "2022-11-27T19:16:23.528320Z",
     "iopub.status.idle": "2022-11-27T19:16:51.617225Z",
     "shell.execute_reply": "2022-11-27T19:16:51.615914Z"
    },
    "papermill": {
     "duration": 28.103556,
     "end_time": "2022-11-27T19:16:51.619545",
     "exception": false,
     "start_time": "2022-11-27T19:16:23.515989",
     "status": "completed"
    },
    "tags": []
   },
   "outputs": [
    {
     "name": "stdout",
     "output_type": "stream",
     "text": [
      "Collecting caer\r\n",
      "  Downloading caer-2.0.8-py3-none-any.whl (809 kB)\r\n",
      "\u001b[2K     \u001b[90m━━━━━━━━━━━━━━━━━━━━━━━━━━━━━━━━━━━━━━━\u001b[0m \u001b[32m809.5/809.5 kB\u001b[0m \u001b[31m3.2 MB/s\u001b[0m eta \u001b[36m0:00:00\u001b[0m\r\n",
      "\u001b[?25hCollecting canaro\r\n",
      "  Downloading canaro-1.1.0-py3-none-any.whl (19 kB)\r\n",
      "Requirement already satisfied: typing-extensions in /opt/conda/lib/python3.7/site-packages (from caer) (4.1.1)\r\n",
      "Requirement already satisfied: opencv-contrib-python in /opt/conda/lib/python3.7/site-packages (from caer) (4.5.4.60)\r\n",
      "Collecting mypy\r\n",
      "  Downloading mypy-0.991-cp37-cp37m-manylinux_2_17_x86_64.manylinux2014_x86_64.whl (15.5 MB)\r\n",
      "\u001b[2K     \u001b[90m━━━━━━━━━━━━━━━━━━━━━━━━━━━━━━━━━━━━━━━━\u001b[0m \u001b[32m15.5/15.5 MB\u001b[0m \u001b[31m38.6 MB/s\u001b[0m eta \u001b[36m0:00:00\u001b[0m\r\n",
      "\u001b[?25hRequirement already satisfied: numpy in /opt/conda/lib/python3.7/site-packages (from caer) (1.21.6)\r\n",
      "Requirement already satisfied: tensorflow in /opt/conda/lib/python3.7/site-packages (from canaro) (2.6.4)\r\n",
      "Requirement already satisfied: tomli>=1.1.0 in /opt/conda/lib/python3.7/site-packages (from mypy->caer) (2.0.1)\r\n",
      "Requirement already satisfied: mypy-extensions>=0.4.3 in /opt/conda/lib/python3.7/site-packages (from mypy->caer) (0.4.3)\r\n",
      "Requirement already satisfied: typed-ast<2,>=1.4.0 in /opt/conda/lib/python3.7/site-packages (from mypy->caer) (1.5.4)\r\n",
      "Requirement already satisfied: protobuf>=3.9.2 in /opt/conda/lib/python3.7/site-packages (from tensorflow->canaro) (3.19.4)\r\n",
      "Collecting h5py~=3.1.0\r\n",
      "  Downloading h5py-3.1.0-cp37-cp37m-manylinux1_x86_64.whl (4.0 MB)\r\n",
      "\u001b[2K     \u001b[90m━━━━━━━━━━━━━━━━━━━━━━━━━━━━━━━━━━━━━━━━\u001b[0m \u001b[32m4.0/4.0 MB\u001b[0m \u001b[31m44.9 MB/s\u001b[0m eta \u001b[36m0:00:00\u001b[0m\r\n",
      "\u001b[?25hRequirement already satisfied: keras-preprocessing~=1.1.2 in /opt/conda/lib/python3.7/site-packages (from tensorflow->canaro) (1.1.2)\r\n",
      "Requirement already satisfied: google-pasta~=0.2 in /opt/conda/lib/python3.7/site-packages (from tensorflow->canaro) (0.2.0)\r\n",
      "Requirement already satisfied: wheel~=0.35 in /opt/conda/lib/python3.7/site-packages (from tensorflow->canaro) (0.37.1)\r\n",
      "Collecting tensorboard<2.7,>=2.6.0\r\n",
      "  Downloading tensorboard-2.6.0-py3-none-any.whl (5.6 MB)\r\n",
      "\u001b[2K     \u001b[90m━━━━━━━━━━━━━━━━━━━━━━━━━━━━━━━━━━━━━━━━\u001b[0m \u001b[32m5.6/5.6 MB\u001b[0m \u001b[31m52.8 MB/s\u001b[0m eta \u001b[36m0:00:00\u001b[0m\r\n",
      "\u001b[?25hCollecting numpy\r\n",
      "  Downloading numpy-1.19.5-cp37-cp37m-manylinux2010_x86_64.whl (14.8 MB)\r\n",
      "\u001b[2K     \u001b[90m━━━━━━━━━━━━━━━━━━━━━━━━━━━━━━━━━━━━━━━━\u001b[0m \u001b[32m14.8/14.8 MB\u001b[0m \u001b[31m36.0 MB/s\u001b[0m eta \u001b[36m0:00:00\u001b[0m\r\n",
      "\u001b[?25hRequirement already satisfied: tensorflow-estimator<2.7,>=2.6.0 in /opt/conda/lib/python3.7/site-packages (from tensorflow->canaro) (2.6.0)\r\n",
      "Requirement already satisfied: wrapt~=1.12.1 in /opt/conda/lib/python3.7/site-packages (from tensorflow->canaro) (1.12.1)\r\n",
      "Collecting typing-extensions\r\n",
      "  Downloading typing_extensions-3.10.0.2-py3-none-any.whl (26 kB)\r\n",
      "Requirement already satisfied: keras<2.7,>=2.6.0 in /opt/conda/lib/python3.7/site-packages (from tensorflow->canaro) (2.6.0)\r\n",
      "Requirement already satisfied: astunparse~=1.6.3 in /opt/conda/lib/python3.7/site-packages (from tensorflow->canaro) (1.6.3)\r\n",
      "Requirement already satisfied: termcolor~=1.1.0 in /opt/conda/lib/python3.7/site-packages (from tensorflow->canaro) (1.1.0)\r\n",
      "Requirement already satisfied: grpcio<2.0,>=1.37.0 in /opt/conda/lib/python3.7/site-packages (from tensorflow->canaro) (1.43.0)\r\n",
      "Requirement already satisfied: absl-py~=0.10 in /opt/conda/lib/python3.7/site-packages (from tensorflow->canaro) (0.15.0)\r\n",
      "Requirement already satisfied: clang~=5.0 in /opt/conda/lib/python3.7/site-packages (from tensorflow->canaro) (5.0)\r\n",
      "Requirement already satisfied: gast==0.4.0 in /opt/conda/lib/python3.7/site-packages (from tensorflow->canaro) (0.4.0)\r\n",
      "Requirement already satisfied: opt-einsum~=3.3.0 in /opt/conda/lib/python3.7/site-packages (from tensorflow->canaro) (3.3.0)\r\n",
      "Requirement already satisfied: flatbuffers~=1.12.0 in /opt/conda/lib/python3.7/site-packages (from tensorflow->canaro) (1.12)\r\n",
      "Requirement already satisfied: six~=1.15.0 in /opt/conda/lib/python3.7/site-packages (from tensorflow->canaro) (1.15.0)\r\n",
      "Requirement already satisfied: cached-property in /opt/conda/lib/python3.7/site-packages (from h5py~=3.1.0->tensorflow->canaro) (1.5.2)\r\n",
      "Requirement already satisfied: tensorboard-data-server<0.7.0,>=0.6.0 in /opt/conda/lib/python3.7/site-packages (from tensorboard<2.7,>=2.6.0->tensorflow->canaro) (0.6.1)\r\n",
      "Requirement already satisfied: tensorboard-plugin-wit>=1.6.0 in /opt/conda/lib/python3.7/site-packages (from tensorboard<2.7,>=2.6.0->tensorflow->canaro) (1.8.1)\r\n",
      "Requirement already satisfied: markdown>=2.6.8 in /opt/conda/lib/python3.7/site-packages (from tensorboard<2.7,>=2.6.0->tensorflow->canaro) (3.3.7)\r\n",
      "Requirement already satisfied: werkzeug>=0.11.15 in /opt/conda/lib/python3.7/site-packages (from tensorboard<2.7,>=2.6.0->tensorflow->canaro) (2.2.2)\r\n",
      "Requirement already satisfied: setuptools>=41.0.0 in /opt/conda/lib/python3.7/site-packages (from tensorboard<2.7,>=2.6.0->tensorflow->canaro) (59.8.0)\r\n",
      "Requirement already satisfied: requests<3,>=2.21.0 in /opt/conda/lib/python3.7/site-packages (from tensorboard<2.7,>=2.6.0->tensorflow->canaro) (2.28.1)\r\n",
      "Requirement already satisfied: google-auth<2,>=1.6.3 in /opt/conda/lib/python3.7/site-packages (from tensorboard<2.7,>=2.6.0->tensorflow->canaro) (1.35.0)\r\n",
      "Requirement already satisfied: google-auth-oauthlib<0.5,>=0.4.1 in /opt/conda/lib/python3.7/site-packages (from tensorboard<2.7,>=2.6.0->tensorflow->canaro) (0.4.6)\r\n",
      "Requirement already satisfied: cachetools<5.0,>=2.0.0 in /opt/conda/lib/python3.7/site-packages (from google-auth<2,>=1.6.3->tensorboard<2.7,>=2.6.0->tensorflow->canaro) (4.2.4)\r\n",
      "Requirement already satisfied: rsa<5,>=3.1.4 in /opt/conda/lib/python3.7/site-packages (from google-auth<2,>=1.6.3->tensorboard<2.7,>=2.6.0->tensorflow->canaro) (4.8)\r\n",
      "Requirement already satisfied: pyasn1-modules>=0.2.1 in /opt/conda/lib/python3.7/site-packages (from google-auth<2,>=1.6.3->tensorboard<2.7,>=2.6.0->tensorflow->canaro) (0.2.7)\r\n",
      "Requirement already satisfied: requests-oauthlib>=0.7.0 in /opt/conda/lib/python3.7/site-packages (from google-auth-oauthlib<0.5,>=0.4.1->tensorboard<2.7,>=2.6.0->tensorflow->canaro) (1.3.1)\r\n",
      "Requirement already satisfied: importlib-metadata>=4.4 in /opt/conda/lib/python3.7/site-packages (from markdown>=2.6.8->tensorboard<2.7,>=2.6.0->tensorflow->canaro) (4.13.0)\r\n",
      "Requirement already satisfied: urllib3<1.27,>=1.21.1 in /opt/conda/lib/python3.7/site-packages (from requests<3,>=2.21.0->tensorboard<2.7,>=2.6.0->tensorflow->canaro) (1.26.12)\r\n",
      "Requirement already satisfied: idna<4,>=2.5 in /opt/conda/lib/python3.7/site-packages (from requests<3,>=2.21.0->tensorboard<2.7,>=2.6.0->tensorflow->canaro) (3.3)\r\n",
      "Requirement already satisfied: certifi>=2017.4.17 in /opt/conda/lib/python3.7/site-packages (from requests<3,>=2.21.0->tensorboard<2.7,>=2.6.0->tensorflow->canaro) (2022.9.24)\r\n",
      "Requirement already satisfied: charset-normalizer<3,>=2 in /opt/conda/lib/python3.7/site-packages (from requests<3,>=2.21.0->tensorboard<2.7,>=2.6.0->tensorflow->canaro) (2.1.0)\r\n",
      "Requirement already satisfied: MarkupSafe>=2.1.1 in /opt/conda/lib/python3.7/site-packages (from werkzeug>=0.11.15->tensorboard<2.7,>=2.6.0->tensorflow->canaro) (2.1.1)\r\n",
      "Requirement already satisfied: zipp>=0.5 in /opt/conda/lib/python3.7/site-packages (from importlib-metadata>=4.4->markdown>=2.6.8->tensorboard<2.7,>=2.6.0->tensorflow->canaro) (3.8.0)\r\n",
      "Requirement already satisfied: pyasn1<0.5.0,>=0.4.6 in /opt/conda/lib/python3.7/site-packages (from pyasn1-modules>=0.2.1->google-auth<2,>=1.6.3->tensorboard<2.7,>=2.6.0->tensorflow->canaro) (0.4.8)\r\n",
      "Requirement already satisfied: oauthlib>=3.0.0 in /opt/conda/lib/python3.7/site-packages (from requests-oauthlib>=0.7.0->google-auth-oauthlib<0.5,>=0.4.1->tensorboard<2.7,>=2.6.0->tensorflow->canaro) (3.2.0)\r\n",
      "Installing collected packages: typing-extensions, numpy, mypy, h5py, caer, tensorboard, canaro\r\n",
      "  Attempting uninstall: typing-extensions\r\n",
      "    Found existing installation: typing_extensions 4.1.1\r\n",
      "    Uninstalling typing_extensions-4.1.1:\r\n",
      "      Successfully uninstalled typing_extensions-4.1.1\r\n",
      "  Attempting uninstall: numpy\r\n",
      "    Found existing installation: numpy 1.21.6\r\n",
      "    Uninstalling numpy-1.21.6:\r\n",
      "      Successfully uninstalled numpy-1.21.6\r\n",
      "  Attempting uninstall: h5py\r\n",
      "    Found existing installation: h5py 3.7.0\r\n",
      "    Uninstalling h5py-3.7.0:\r\n",
      "      Successfully uninstalled h5py-3.7.0\r\n",
      "  Attempting uninstall: tensorboard\r\n",
      "    Found existing installation: tensorboard 2.10.1\r\n",
      "    Uninstalling tensorboard-2.10.1:\r\n",
      "      Successfully uninstalled tensorboard-2.10.1\r\n",
      "\u001b[31mERROR: pip's dependency resolver does not currently take into account all the packages that are installed. This behaviour is the source of the following dependency conflicts.\r\n",
      "tensorflow-io 0.21.0 requires tensorflow-io-gcs-filesystem==0.21.0, which is not installed.\r\n",
      "dask-cudf 21.10.1 requires cupy-cuda114, which is not installed.\r\n",
      "beatrix-jupyterlab 3.1.7 requires google-cloud-bigquery-storage, which is not installed.\r\n",
      "xarray-einstats 0.2.2 requires numpy>=1.21, but you have numpy 1.19.5 which is incompatible.\r\n",
      "tfx-bsl 1.9.0 requires tensorflow!=2.0.*,!=2.1.*,!=2.2.*,!=2.3.*,!=2.4.*,!=2.5.*,!=2.6.*,!=2.7.*,!=2.8.*,<3,>=1.15.5, but you have tensorflow 2.6.4 which is incompatible.\r\n",
      "tensorflow-transform 1.9.0 requires tensorflow!=2.0.*,!=2.1.*,!=2.2.*,!=2.3.*,!=2.4.*,!=2.5.*,!=2.6.*,!=2.7.*,!=2.8.*,<2.10,>=1.15.5, but you have tensorflow 2.6.4 which is incompatible.\r\n",
      "tensorflow-serving-api 2.9.0 requires tensorflow<3,>=2.9.0, but you have tensorflow 2.6.4 which is incompatible.\r\n",
      "rich 12.6.0 requires typing-extensions<5.0,>=4.0.0; python_version < \"3.9\", but you have typing-extensions 3.10.0.2 which is incompatible.\r\n",
      "pytorch-lightning 1.7.7 requires tensorboard>=2.9.1, but you have tensorboard 2.6.0 which is incompatible.\r\n",
      "pytorch-lightning 1.7.7 requires typing-extensions>=4.0.0, but you have typing-extensions 3.10.0.2 which is incompatible.\r\n",
      "pytools 2022.1.12 requires typing-extensions>=4.0; python_version < \"3.11\", but you have typing-extensions 3.10.0.2 which is incompatible.\r\n",
      "pdpbox 0.2.1 requires matplotlib==3.1.1, but you have matplotlib 3.5.3 which is incompatible.\r\n",
      "pandas-profiling 3.1.0 requires markupsafe~=2.0.1, but you have markupsafe 2.1.1 which is incompatible.\r\n",
      "nnabla 1.31.0 requires numpy>=1.20.0, but you have numpy 1.19.5 which is incompatible.\r\n",
      "jaxlib 0.3.22+cuda11.cudnn805 requires numpy>=1.20, but you have numpy 1.19.5 which is incompatible.\r\n",
      "jax 0.3.23 requires numpy>=1.20, but you have numpy 1.19.5 which is incompatible.\r\n",
      "flax 0.6.1 requires typing-extensions>=4.1.1, but you have typing-extensions 3.10.0.2 which is incompatible.\r\n",
      "flake8 4.0.1 requires importlib-metadata<4.3; python_version < \"3.8\", but you have importlib-metadata 4.13.0 which is incompatible.\r\n",
      "featuretools 1.11.1 requires numpy>=1.21.0, but you have numpy 1.19.5 which is incompatible.\r\n",
      "dask-cudf 21.10.1 requires dask==2021.09.1, but you have dask 2022.2.0 which is incompatible.\r\n",
      "dask-cudf 21.10.1 requires distributed==2021.09.1, but you have distributed 2022.2.0 which is incompatible.\r\n",
      "cmdstanpy 1.0.7 requires numpy>=1.21, but you have numpy 1.19.5 which is incompatible.\r\n",
      "apache-beam 2.40.0 requires dill<0.3.2,>=0.3.1.1, but you have dill 0.3.5.1 which is incompatible.\r\n",
      "allennlp 2.10.1 requires h5py>=3.6.0, but you have h5py 3.1.0 which is incompatible.\r\n",
      "allennlp 2.10.1 requires numpy>=1.21.4, but you have numpy 1.19.5 which is incompatible.\r\n",
      "aioitertools 0.11.0 requires typing_extensions>=4.0; python_version < \"3.10\", but you have typing-extensions 3.10.0.2 which is incompatible.\r\n",
      "aiobotocore 2.4.0 requires botocore<1.27.60,>=1.27.59, but you have botocore 1.27.93 which is incompatible.\u001b[0m\u001b[31m\r\n",
      "\u001b[0mSuccessfully installed caer-2.0.8 canaro-1.1.0 h5py-3.1.0 mypy-0.991 numpy-1.19.5 tensorboard-2.6.0 typing-extensions-3.10.0.2\r\n",
      "\u001b[33mWARNING: Running pip as the 'root' user can result in broken permissions and conflicting behaviour with the system package manager. It is recommended to use a virtual environment instead: https://pip.pypa.io/warnings/venv\u001b[0m\u001b[33m\r\n",
      "\u001b[0mNote: you may need to restart the kernel to use updated packages.\n"
     ]
    }
   ],
   "source": [
    "pip install caer canaro"
   ]
  },
  {
   "cell_type": "code",
   "execution_count": 2,
   "id": "440150c1",
   "metadata": {
    "execution": {
     "iopub.execute_input": "2022-11-27T19:16:51.637350Z",
     "iopub.status.busy": "2022-11-27T19:16:51.637031Z",
     "iopub.status.idle": "2022-11-27T19:16:56.364272Z",
     "shell.execute_reply": "2022-11-27T19:16:56.363278Z"
    },
    "papermill": {
     "duration": 4.740766,
     "end_time": "2022-11-27T19:16:56.368805",
     "exception": false,
     "start_time": "2022-11-27T19:16:51.628039",
     "status": "completed"
    },
    "tags": []
   },
   "outputs": [],
   "source": [
    "import os\n",
    "import caer\n",
    "import canaro\n",
    "import numpy as np\n",
    "import cv2 as cv\n",
    "import gc\n"
   ]
  },
  {
   "cell_type": "code",
   "execution_count": 3,
   "id": "0155c03c",
   "metadata": {
    "execution": {
     "iopub.execute_input": "2022-11-27T19:16:56.388881Z",
     "iopub.status.busy": "2022-11-27T19:16:56.388364Z",
     "iopub.status.idle": "2022-11-27T19:16:56.394144Z",
     "shell.execute_reply": "2022-11-27T19:16:56.393308Z"
    },
    "papermill": {
     "duration": 0.018067,
     "end_time": "2022-11-27T19:16:56.396124",
     "exception": false,
     "start_time": "2022-11-27T19:16:56.378057",
     "status": "completed"
    },
    "tags": []
   },
   "outputs": [],
   "source": [
    "IMG_SIZE = (80,80)\n",
    "channels = 1\n",
    "char_path = r'/kaggle/input/the-simpsons-characters-dataset/simpsons_dataset'"
   ]
  },
  {
   "cell_type": "code",
   "execution_count": 4,
   "id": "362d2cca",
   "metadata": {
    "execution": {
     "iopub.execute_input": "2022-11-27T19:16:56.414430Z",
     "iopub.status.busy": "2022-11-27T19:16:56.413655Z",
     "iopub.status.idle": "2022-11-27T19:17:00.966185Z",
     "shell.execute_reply": "2022-11-27T19:17:00.965196Z"
    },
    "papermill": {
     "duration": 4.563321,
     "end_time": "2022-11-27T19:17:00.968229",
     "exception": false,
     "start_time": "2022-11-27T19:16:56.404908",
     "status": "completed"
    },
    "tags": []
   },
   "outputs": [
    {
     "data": {
      "text/plain": [
       "[('homer_simpson', 2246),\n",
       " ('ned_flanders', 1454),\n",
       " ('moe_szyslak', 1452),\n",
       " ('lisa_simpson', 1354),\n",
       " ('bart_simpson', 1342),\n",
       " ('marge_simpson', 1291),\n",
       " ('krusty_the_clown', 1206),\n",
       " ('principal_skinner', 1194),\n",
       " ('charles_montgomery_burns', 1193),\n",
       " ('milhouse_van_houten', 1079),\n",
       " ('chief_wiggum', 986),\n",
       " ('abraham_grampa_simpson', 913),\n",
       " ('sideshow_bob', 877),\n",
       " ('apu_nahasapeemapetilon', 623),\n",
       " ('kent_brockman', 498),\n",
       " ('comic_book_guy', 469),\n",
       " ('edna_krabappel', 457),\n",
       " ('nelson_muntz', 358),\n",
       " ('lenny_leonard', 310),\n",
       " ('mayor_quimby', 246),\n",
       " ('waylon_smithers', 181),\n",
       " ('maggie_simpson', 128),\n",
       " ('groundskeeper_willie', 121),\n",
       " ('barney_gumble', 106),\n",
       " ('selma_bouvier', 103),\n",
       " ('carl_carlson', 98),\n",
       " ('ralph_wiggum', 89),\n",
       " ('patty_bouvier', 72),\n",
       " ('martin_prince', 71),\n",
       " ('professor_john_frink', 65),\n",
       " ('snake_jailbird', 55),\n",
       " ('cletus_spuckler', 47),\n",
       " ('rainier_wolfcastle', 45),\n",
       " ('simpsons_dataset', 42),\n",
       " ('agnes_skinner', 42),\n",
       " ('sideshow_mel', 40),\n",
       " ('otto_mann', 32),\n",
       " ('fat_tony', 27),\n",
       " ('gil', 27),\n",
       " ('miss_hoover', 17),\n",
       " ('disco_stu', 8),\n",
       " ('troy_mcclure', 8),\n",
       " ('lionel_hutz', 3)]"
      ]
     },
     "execution_count": 4,
     "metadata": {},
     "output_type": "execute_result"
    }
   ],
   "source": [
    "char_dict = {}\n",
    "for char in os.listdir(char_path):\n",
    "    char_dict[char] = len(os.listdir(os.path.join(char_path,char)))\n",
    "    \n",
    "# Sort in descending order\n",
    "char_dict = caer.sort_dict(char_dict, descending=True)\n",
    "char_dict"
   ]
  },
  {
   "cell_type": "code",
   "execution_count": 5,
   "id": "a9309e23",
   "metadata": {
    "execution": {
     "iopub.execute_input": "2022-11-27T19:17:00.985974Z",
     "iopub.status.busy": "2022-11-27T19:17:00.985388Z",
     "iopub.status.idle": "2022-11-27T19:17:00.992941Z",
     "shell.execute_reply": "2022-11-27T19:17:00.991913Z"
    },
    "papermill": {
     "duration": 0.018821,
     "end_time": "2022-11-27T19:17:00.995283",
     "exception": false,
     "start_time": "2022-11-27T19:17:00.976462",
     "status": "completed"
    },
    "tags": []
   },
   "outputs": [
    {
     "data": {
      "text/plain": [
       "['homer_simpson',\n",
       " 'ned_flanders',\n",
       " 'moe_szyslak',\n",
       " 'lisa_simpson',\n",
       " 'bart_simpson',\n",
       " 'marge_simpson',\n",
       " 'krusty_the_clown',\n",
       " 'principal_skinner',\n",
       " 'charles_montgomery_burns',\n",
       " 'milhouse_van_houten']"
      ]
     },
     "execution_count": 5,
     "metadata": {},
     "output_type": "execute_result"
    }
   ],
   "source": [
    "characters = []\n",
    "count = 0\n",
    "for i in char_dict:\n",
    "    characters.append(i[0])\n",
    "    count += 1\n",
    "    if count >= 10:\n",
    "        break\n",
    "characters"
   ]
  },
  {
   "cell_type": "code",
   "execution_count": 6,
   "id": "0dddd32d",
   "metadata": {
    "execution": {
     "iopub.execute_input": "2022-11-27T19:17:01.013131Z",
     "iopub.status.busy": "2022-11-27T19:17:01.012347Z",
     "iopub.status.idle": "2022-11-27T19:19:14.892624Z",
     "shell.execute_reply": "2022-11-27T19:19:14.891616Z"
    },
    "papermill": {
     "duration": 133.899799,
     "end_time": "2022-11-27T19:19:14.903168",
     "exception": false,
     "start_time": "2022-11-27T19:17:01.003369",
     "status": "completed"
    },
    "tags": []
   },
   "outputs": [
    {
     "name": "stdout",
     "output_type": "stream",
     "text": [
      "[INFO] Could not find a file to load from. Generating the training data\n",
      "----------------------------------------------\n",
      "[INFO] At 1000 files\n",
      "[INFO] At 2000 files\n",
      "[INFO] 2246 files found in 2.1940650939941406s\n",
      "[INFO] At 1000 files\n",
      "[INFO] 1454 files found in 0.6014294624328613s\n",
      "[INFO] At 1000 files\n",
      "[INFO] 1452 files found in 0.608332633972168s\n",
      "[INFO] At 1000 files\n",
      "[INFO] 1354 files found in 1.3445415496826172s\n",
      "[INFO] At 1000 files\n",
      "[INFO] 1342 files found in 0.4371497631072998s\n",
      "[INFO] At 1000 files\n",
      "[INFO] 1291 files found in 0.2807643413543701s\n",
      "[INFO] At 1000 files\n",
      "[INFO] 1206 files found in 0.43926215171813965s\n",
      "[INFO] At 1000 files\n",
      "[INFO] 1194 files found in 0.13807272911071777s\n",
      "[INFO] At 1000 files\n",
      "[INFO] 1193 files found in 0.11537313461303711s\n",
      "[INFO] At 1000 files\n",
      "[INFO] 1079 files found in 0.0038650035858154297s\n",
      "----------------------------------------------\n",
      "[INFO] 13811 files preprocessed! Took 2m 14s\n"
     ]
    }
   ],
   "source": [
    "train = caer.preprocess_from_dir(char_path, characters, channels=channels, IMG_SIZE=IMG_SIZE, isShuffle=True)"
   ]
  },
  {
   "cell_type": "code",
   "execution_count": 7,
   "id": "79c96b4b",
   "metadata": {
    "execution": {
     "iopub.execute_input": "2022-11-27T19:19:14.943323Z",
     "iopub.status.busy": "2022-11-27T19:19:14.942844Z",
     "iopub.status.idle": "2022-11-27T19:19:14.951571Z",
     "shell.execute_reply": "2022-11-27T19:19:14.950674Z"
    },
    "papermill": {
     "duration": 0.030582,
     "end_time": "2022-11-27T19:19:14.955041",
     "exception": false,
     "start_time": "2022-11-27T19:19:14.924459",
     "status": "completed"
    },
    "tags": []
   },
   "outputs": [
    {
     "data": {
      "text/plain": [
       "13811"
      ]
     },
     "execution_count": 7,
     "metadata": {},
     "output_type": "execute_result"
    }
   ],
   "source": [
    "len(train)"
   ]
  },
  {
   "cell_type": "code",
   "execution_count": 8,
   "id": "d3a01cd5",
   "metadata": {
    "execution": {
     "iopub.execute_input": "2022-11-27T19:19:14.982265Z",
     "iopub.status.busy": "2022-11-27T19:19:14.981919Z",
     "iopub.status.idle": "2022-11-27T19:19:15.769700Z",
     "shell.execute_reply": "2022-11-27T19:19:15.768678Z"
    },
    "papermill": {
     "duration": 0.80441,
     "end_time": "2022-11-27T19:19:15.772412",
     "exception": false,
     "start_time": "2022-11-27T19:19:14.968002",
     "status": "completed"
    },
    "tags": []
   },
   "outputs": [
    {
     "data": {
      "image/png": "[encoded data removed]",
      "text/plain": [
       "<Figure size 2160x2160 with 1 Axes>"
      ]
     },
     "metadata": {
      "needs_background": "light"
     },
     "output_type": "display_data"
    }
   ],
   "source": [
    "import matplotlib.pyplot as plt\n",
    "plt.figure(figsize=(30,30))\n",
    "plt.imshow(train[0][0], cmap='gray')\n",
    "plt.show()"
   ]
  },
  {
   "cell_type": "code",
   "execution_count": 9,
   "id": "96782b37",
   "metadata": {
    "execution": {
     "iopub.execute_input": "2022-11-27T19:19:15.803485Z",
     "iopub.status.busy": "2022-11-27T19:19:15.803142Z",
     "iopub.status.idle": "2022-11-27T19:19:15.867816Z",
     "shell.execute_reply": "2022-11-27T19:19:15.866780Z"
    },
    "papermill": {
     "duration": 0.083137,
     "end_time": "2022-11-27T19:19:15.871067",
     "exception": false,
     "start_time": "2022-11-27T19:19:15.787930",
     "status": "completed"
    },
    "tags": []
   },
   "outputs": [],
   "source": [
    "featureSet, labels = caer.sep_train(train, IMG_SIZE=IMG_SIZE)"
   ]
  },
  {
   "cell_type": "code",
   "execution_count": 10,
   "id": "50ad869d",
   "metadata": {
    "execution": {
     "iopub.execute_input": "2022-11-27T19:19:15.901627Z",
     "iopub.status.busy": "2022-11-27T19:19:15.901278Z",
     "iopub.status.idle": "2022-11-27T19:19:16.034292Z",
     "shell.execute_reply": "2022-11-27T19:19:16.033200Z"
    },
    "papermill": {
     "duration": 0.150477,
     "end_time": "2022-11-27T19:19:16.036575",
     "exception": false,
     "start_time": "2022-11-27T19:19:15.886098",
     "status": "completed"
    },
    "tags": []
   },
   "outputs": [],
   "source": [
    "from tensorflow.keras.utils import to_categorical\n",
    "# Normalize the featureSet === (0,1)\n",
    "featureSet = caer.normalize(featureSet)\n",
    "labels = to_categorical(labels, len(characters))"
   ]
  },
  {
   "cell_type": "code",
   "execution_count": 11,
   "id": "d1fb0690",
   "metadata": {
    "execution": {
     "iopub.execute_input": "2022-11-27T19:19:16.058452Z",
     "iopub.status.busy": "2022-11-27T19:19:16.056928Z",
     "iopub.status.idle": "2022-11-27T19:19:16.358527Z",
     "shell.execute_reply": "2022-11-27T19:19:16.357568Z"
    },
    "papermill": {
     "duration": 0.314449,
     "end_time": "2022-11-27T19:19:16.361181",
     "exception": false,
     "start_time": "2022-11-27T19:19:16.046732",
     "status": "completed"
    },
    "tags": []
   },
   "outputs": [],
   "source": [
    "x_train, x_val, y_train, y_val = caer.train_val_split(featureSet, labels, val_ratio=.2)"
   ]
  },
  {
   "cell_type": "code",
   "execution_count": 12,
   "id": "3a13a695",
   "metadata": {
    "execution": {
     "iopub.execute_input": "2022-11-27T19:19:16.381352Z",
     "iopub.status.busy": "2022-11-27T19:19:16.381028Z",
     "iopub.status.idle": "2022-11-27T19:19:16.560136Z",
     "shell.execute_reply": "2022-11-27T19:19:16.559243Z"
    },
    "papermill": {
     "duration": 0.191613,
     "end_time": "2022-11-27T19:19:16.562362",
     "exception": false,
     "start_time": "2022-11-27T19:19:16.370749",
     "status": "completed"
    },
    "tags": []
   },
   "outputs": [
    {
     "data": {
      "text/plain": [
       "21"
      ]
     },
     "execution_count": 12,
     "metadata": {},
     "output_type": "execute_result"
    }
   ],
   "source": [
    "del train\n",
    "del featureSet\n",
    "del labels\n",
    "gc.collect()"
   ]
  },
  {
   "cell_type": "code",
   "execution_count": 13,
   "id": "ddd87e36",
   "metadata": {
    "execution": {
     "iopub.execute_input": "2022-11-27T19:19:16.582645Z",
     "iopub.status.busy": "2022-11-27T19:19:16.582344Z",
     "iopub.status.idle": "2022-11-27T19:19:16.586454Z",
     "shell.execute_reply": "2022-11-27T19:19:16.585438Z"
    },
    "papermill": {
     "duration": 0.01657,
     "end_time": "2022-11-27T19:19:16.588699",
     "exception": false,
     "start_time": "2022-11-27T19:19:16.572129",
     "status": "completed"
    },
    "tags": []
   },
   "outputs": [],
   "source": [
    "BATCH_SIZE = 32\n",
    "EPOCHS = 10\n"
   ]
  },
  {
   "cell_type": "code",
   "execution_count": 14,
   "id": "7e3b2095",
   "metadata": {
    "execution": {
     "iopub.execute_input": "2022-11-27T19:19:16.608272Z",
     "iopub.status.busy": "2022-11-27T19:19:16.608003Z",
     "iopub.status.idle": "2022-11-27T19:19:16.612479Z",
     "shell.execute_reply": "2022-11-27T19:19:16.611598Z"
    },
    "papermill": {
     "duration": 0.016551,
     "end_time": "2022-11-27T19:19:16.614490",
     "exception": false,
     "start_time": "2022-11-27T19:19:16.597939",
     "status": "completed"
    },
    "tags": []
   },
   "outputs": [],
   "source": [
    "# Image data generator\n",
    "datagen = canaro.generators.imageDataGenerator()\n",
    "train_gen = datagen.flow(x_train, y_train, batch_size=BATCH_SIZE)"
   ]
  },
  {
   "cell_type": "code",
   "execution_count": 15,
   "id": "514e2fde",
   "metadata": {
    "execution": {
     "iopub.execute_input": "2022-11-27T19:19:16.634040Z",
     "iopub.status.busy": "2022-11-27T19:19:16.633787Z",
     "iopub.status.idle": "2022-11-27T19:19:19.492738Z",
     "shell.execute_reply": "2022-11-27T19:19:19.490443Z"
    },
    "papermill": {
     "duration": 2.871467,
     "end_time": "2022-11-27T19:19:19.495116",
     "exception": false,
     "start_time": "2022-11-27T19:19:16.623649",
     "status": "completed"
    },
    "tags": []
   },
   "outputs": [
    {
     "name": "stderr",
     "output_type": "stream",
     "text": [
      "/opt/conda/lib/python3.7/site-packages/keras/optimizer_v2/optimizer_v2.py:356: UserWarning: The `lr` argument is deprecated, use `learning_rate` instead.\n",
      "  \"The `lr` argument is deprecated, use `learning_rate` instead.\")\n"
     ]
    }
   ],
   "source": [
    "model = canaro.models.createSimpsonsModel(IMG_SIZE=IMG_SIZE, channels=channels, output_dim=len(characters),\n",
    "                                         loss='binary_crossentropy', decay=1e-6, learning_rate=0.001, momentum=0.9,\n",
    "                                         nesterov=True)\n"
   ]
  },
  {
   "cell_type": "code",
   "execution_count": 16,
   "id": "4647e71c",
   "metadata": {
    "execution": {
     "iopub.execute_input": "2022-11-27T19:19:19.515656Z",
     "iopub.status.busy": "2022-11-27T19:19:19.515332Z",
     "iopub.status.idle": "2022-11-27T19:19:19.521910Z",
     "shell.execute_reply": "2022-11-27T19:19:19.520954Z"
    },
    "papermill": {
     "duration": 0.021285,
     "end_time": "2022-11-27T19:19:19.525987",
     "exception": false,
     "start_time": "2022-11-27T19:19:19.504702",
     "status": "completed"
    },
    "tags": []
   },
   "outputs": [
    {
     "name": "stdout",
     "output_type": "stream",
     "text": [
      "Model: \"sequential_1\"\n",
      "_________________________________________________________________\n",
      "Layer (type)                 Output Shape              Param #   \n",
      "=================================================================\n",
      "conv2d_6 (Conv2D)            (None, 80, 80, 32)        320       \n",
      "_________________________________________________________________\n",
      "conv2d_7 (Conv2D)            (None, 78, 78, 32)        9248      \n",
      "_________________________________________________________________\n",
      "max_pooling2d_3 (MaxPooling2 (None, 39, 39, 32)        0         \n",
      "_________________________________________________________________\n",
      "dropout_4 (Dropout)          (None, 39, 39, 32)        0         \n",
      "_________________________________________________________________\n",
      "conv2d_8 (Conv2D)            (None, 39, 39, 64)        18496     \n",
      "_________________________________________________________________\n",
      "conv2d_9 (Conv2D)            (None, 37, 37, 64)        36928     \n",
      "_________________________________________________________________\n",
      "max_pooling2d_4 (MaxPooling2 (None, 18, 18, 64)        0         \n",
      "_________________________________________________________________\n",
      "dropout_5 (Dropout)          (None, 18, 18, 64)        0         \n",
      "_________________________________________________________________\n",
      "conv2d_10 (Conv2D)           (None, 18, 18, 256)       147712    \n",
      "_________________________________________________________________\n",
      "conv2d_11 (Conv2D)           (None, 16, 16, 256)       590080    \n",
      "_________________________________________________________________\n",
      "max_pooling2d_5 (MaxPooling2 (None, 8, 8, 256)         0         \n",
      "_________________________________________________________________\n",
      "dropout_6 (Dropout)          (None, 8, 8, 256)         0         \n",
      "_________________________________________________________________\n",
      "flatten_1 (Flatten)          (None, 16384)             0         \n",
      "_________________________________________________________________\n",
      "dropout_7 (Dropout)          (None, 16384)             0         \n",
      "_________________________________________________________________\n",
      "dense_1 (Dense)              (None, 1024)              16778240  \n",
      "_________________________________________________________________\n",
      "dense_2 (Dense)              (None, 10)                10250     \n",
      "=================================================================\n",
      "Total params: 17,591,274\n",
      "Trainable params: 17,591,274\n",
      "Non-trainable params: 0\n",
      "_________________________________________________________________\n"
     ]
    }
   ],
   "source": [
    "model.summary()\n"
   ]
  },
  {
   "cell_type": "code",
   "execution_count": 17,
   "id": "f0a8411a",
   "metadata": {
    "execution": {
     "iopub.execute_input": "2022-11-27T19:19:19.545966Z",
     "iopub.status.busy": "2022-11-27T19:19:19.545694Z",
     "iopub.status.idle": "2022-11-27T19:19:19.550040Z",
     "shell.execute_reply": "2022-11-27T19:19:19.549051Z"
    },
    "papermill": {
     "duration": 0.016557,
     "end_time": "2022-11-27T19:19:19.552004",
     "exception": false,
     "start_time": "2022-11-27T19:19:19.535447",
     "status": "completed"
    },
    "tags": []
   },
   "outputs": [],
   "source": [
    "from tensorflow.keras.callbacks import LearningRateScheduler\n",
    "callbacks_list = {LearningRateScheduler(canaro.lr_schedule)}"
   ]
  },
  {
   "cell_type": "code",
   "execution_count": 18,
   "id": "c68df5fe",
   "metadata": {
    "execution": {
     "iopub.execute_input": "2022-11-27T19:19:19.572395Z",
     "iopub.status.busy": "2022-11-27T19:19:19.571635Z",
     "iopub.status.idle": "2022-11-27T19:21:05.627640Z",
     "shell.execute_reply": "2022-11-27T19:21:05.626580Z"
    },
    "papermill": {
     "duration": 106.068734,
     "end_time": "2022-11-27T19:21:05.630174",
     "exception": false,
     "start_time": "2022-11-27T19:19:19.561440",
     "status": "completed"
    },
    "tags": []
   },
   "outputs": [
    {
     "name": "stdout",
     "output_type": "stream",
     "text": [
      "Epoch 1/10\n",
      "345/345 [==============================] - 18s 30ms/step - loss: 0.3933 - accuracy: 0.1430 - val_loss: 0.3393 - val_accuracy: 0.1563\n",
      "Epoch 2/10\n",
      "345/345 [==============================] - 9s 26ms/step - loss: 0.3272 - accuracy: 0.1584\n",
      "Epoch 3/10\n",
      "345/345 [==============================] - 8s 24ms/step - loss: 0.3256 - accuracy: 0.1615\n",
      "Epoch 4/10\n",
      "345/345 [==============================] - 9s 25ms/step - loss: 0.3249 - accuracy: 0.1636\n",
      "Epoch 5/10\n",
      "345/345 [==============================] - 8s 24ms/step - loss: 0.3240 - accuracy: 0.1625\n",
      "Epoch 6/10\n",
      "345/345 [==============================] - 9s 25ms/step - loss: 0.3235 - accuracy: 0.1625\n",
      "Epoch 7/10\n",
      "345/345 [==============================] - 9s 25ms/step - loss: 0.3234 - accuracy: 0.1631\n",
      "Epoch 8/10\n",
      "345/345 [==============================] - 9s 25ms/step - loss: 0.3233 - accuracy: 0.1617\n",
      "Epoch 9/10\n",
      "345/345 [==============================] - 9s 26ms/step - loss: 0.3232 - accuracy: 0.1641\n",
      "Epoch 10/10\n",
      "345/345 [==============================] - 9s 25ms/step - loss: 0.3229 - accuracy: 0.1640\n"
     ]
    }
   ],
   "source": [
    "training = model.fit(train_gen,\n",
    "                    steps_per_epoch=len(x_train)//BATCH_SIZE,\n",
    "                    epochs=EPOCHS,\n",
    "                    validation_data=(x_val,y_val),\n",
    "                    validation_steps=len(y_val)//BATCH_SIZE)"
   ]
  },
  {
   "cell_type": "code",
   "execution_count": 19,
   "id": "b7ead77c",
   "metadata": {
    "execution": {
     "iopub.execute_input": "2022-11-27T19:21:05.783304Z",
     "iopub.status.busy": "2022-11-27T19:21:05.782283Z",
     "iopub.status.idle": "2022-11-27T19:21:05.791081Z",
     "shell.execute_reply": "2022-11-27T19:21:05.790228Z"
    },
    "papermill": {
     "duration": 0.087208,
     "end_time": "2022-11-27T19:21:05.793083",
     "exception": false,
     "start_time": "2022-11-27T19:21:05.705875",
     "status": "completed"
    },
    "tags": []
   },
   "outputs": [
    {
     "data": {
      "text/plain": [
       "['homer_simpson',\n",
       " 'ned_flanders',\n",
       " 'moe_szyslak',\n",
       " 'lisa_simpson',\n",
       " 'bart_simpson',\n",
       " 'marge_simpson',\n",
       " 'krusty_the_clown',\n",
       " 'principal_skinner',\n",
       " 'charles_montgomery_burns',\n",
       " 'milhouse_van_houten']"
      ]
     },
     "execution_count": 19,
     "metadata": {},
     "output_type": "execute_result"
    }
   ],
   "source": [
    "characters\n"
   ]
  },
  {
   "cell_type": "code",
   "execution_count": 20,
   "id": "55fbaea4",
   "metadata": {
    "execution": {
     "iopub.execute_input": "2022-11-27T19:21:05.943432Z",
     "iopub.status.busy": "2022-11-27T19:21:05.942608Z",
     "iopub.status.idle": "2022-11-27T19:21:05.955911Z",
     "shell.execute_reply": "2022-11-27T19:21:05.955039Z"
    },
    "papermill": {
     "duration": 0.090778,
     "end_time": "2022-11-27T19:21:05.957974",
     "exception": false,
     "start_time": "2022-11-27T19:21:05.867196",
     "status": "completed"
    },
    "tags": []
   },
   "outputs": [],
   "source": [
    "test_path = r'/kaggle/input/the-simpsons-characters-dataset/simpsons_dataset/bart_simpson/pic_0092.jpg'\n",
    "img = cv.imread(test_path)\n",
    "\n",
    "def prepare(img):\n",
    "    img = cv.cvtColor(img, cv.COLOR_BGR2GRAY)\n",
    "    img = cv.resize(img, IMG_SIZE)\n",
    "    img = caer.reshape(img, IMG_SIZE, 1)\n",
    "    return img\n"
   ]
  },
  {
   "cell_type": "code",
   "execution_count": 21,
   "id": "ac3b3194",
   "metadata": {
    "execution": {
     "iopub.execute_input": "2022-11-27T19:21:06.108384Z",
     "iopub.status.busy": "2022-11-27T19:21:06.107465Z",
     "iopub.status.idle": "2022-11-27T19:21:06.299595Z",
     "shell.execute_reply": "2022-11-27T19:21:06.298605Z"
    },
    "papermill": {
     "duration": 0.270658,
     "end_time": "2022-11-27T19:21:06.302084",
     "exception": false,
     "start_time": "2022-11-27T19:21:06.031426",
     "status": "completed"
    },
    "tags": []
   },
   "outputs": [],
   "source": [
    "predictions = model.predict(prepare(img))"
   ]
  },
  {
   "cell_type": "code",
   "execution_count": 22,
   "id": "920651a3",
   "metadata": {
    "execution": {
     "iopub.execute_input": "2022-11-27T19:21:06.453910Z",
     "iopub.status.busy": "2022-11-27T19:21:06.453534Z",
     "iopub.status.idle": "2022-11-27T19:21:06.460381Z",
     "shell.execute_reply": "2022-11-27T19:21:06.459339Z"
    },
    "papermill": {
     "duration": 0.085157,
     "end_time": "2022-11-27T19:21:06.463366",
     "exception": false,
     "start_time": "2022-11-27T19:21:06.378209",
     "status": "completed"
    },
    "tags": []
   },
   "outputs": [
    {
     "data": {
      "text/plain": [
       "array([[1.00000000e+00, 1.16115313e-16, 2.76495609e-08, 9.75371428e-09,\n",
       "        1.13341446e-11, 2.80467209e-18, 1.00624007e-17, 5.61065010e-15,\n",
       "        1.85492056e-11, 3.65137772e-16]], dtype=float32)"
      ]
     },
     "execution_count": 22,
     "metadata": {},
     "output_type": "execute_result"
    }
   ],
   "source": [
    "predictions"
   ]
  },
  {
   "cell_type": "code",
   "execution_count": 23,
   "id": "a37bc47c",
   "metadata": {
    "execution": {
     "iopub.execute_input": "2022-11-27T19:21:06.613779Z",
     "iopub.status.busy": "2022-11-27T19:21:06.613401Z",
     "iopub.status.idle": "2022-11-27T19:21:06.618889Z",
     "shell.execute_reply": "2022-11-27T19:21:06.617924Z"
    },
    "papermill": {
     "duration": 0.083603,
     "end_time": "2022-11-27T19:21:06.621368",
     "exception": false,
     "start_time": "2022-11-27T19:21:06.537765",
     "status": "completed"
    },
    "tags": []
   },
   "outputs": [
    {
     "name": "stdout",
     "output_type": "stream",
     "text": [
      "homer_simpson\n"
     ]
    }
   ],
   "source": [
    "print(characters[np.argmax(predictions[0])])"
   ]
  }
 ],
 "metadata": {
  "kernelspec": {
   "display_name": "Python 3",
   "language": "python",
   "name": "python3"
  },
  "language_info": {
   "codemirror_mode": {
    "name": "ipython",
    "version": 3
   },
   "file_extension": ".py",
   "mimetype": "text/x-python",
   "name": "python",
   "nbconvert_exporter": "python",
   "pygments_lexer": "ipython3",
   "version": "3.7.12"
  },
  "papermill": {
   "default_parameters": {},
   "duration": 294.420107,
   "end_time": "2022-11-27T19:21:10.372740",
   "environment_variables": {},
   "exception": null,
   "input_path": "__notebook__.ipynb",
   "output_path": "__notebook__.ipynb",
   "parameters": {},
   "start_time": "2022-11-27T19:16:15.952633",
   "version": "2.3.4"
  }
 },
 "nbformat": 4,
 "nbformat_minor": 5
}
